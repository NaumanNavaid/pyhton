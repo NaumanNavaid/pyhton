{
  "nbformat": 4,
  "nbformat_minor": 0,
  "metadata": {
    "colab": {
      "provenance": [],
      "include_colab_link": true
    },
    "kernelspec": {
      "name": "python3",
      "display_name": "Python 3"
    },
    "language_info": {
      "name": "python"
    }
  },
  "cells": [
    {
      "cell_type": "markdown",
      "metadata": {
        "id": "view-in-github",
        "colab_type": "text"
      },
      "source": [
        "<a href=\"https://colab.research.google.com/github/NaumanNavaid/pyhton/blob/main/Assignment_1.ipynb\" target=\"_parent\"><img src=\"https://colab.research.google.com/assets/colab-badge.svg\" alt=\"Open In Colab\"/></a>"
      ]
    },
    {
      "cell_type": "markdown",
      "source": [
        "***Part 1: Understanding string literals***"
      ],
      "metadata": {
        "id": "J6jgLWtP9ofn"
      }
    },
    {
      "cell_type": "code",
      "execution_count": null,
      "metadata": {
        "id": "YRUsEi-MOnQZ",
        "colab": {
          "base_uri": "https://localhost:8080/"
        },
        "outputId": "bce5c64c-d06e-4e02-b20a-4e230d864e4e"
      },
      "outputs": [
        {
          "output_type": "stream",
          "name": "stdout",
          "text": [
            "Single Quote: This is a single quote text, \"in this we can use a double quote.\"\n",
            "\n",
            "Double Quote: This is a double quote text, 'in this we can use a single quote.'\n",
            "\n",
            "Triple Quote: This is a triple quote text,\n",
            "in this we can print multiple lines.\n",
            "\n",
            "Quote with Single Quote Inside: When she asked him, he told her I'm going to the gym.\n",
            "\n",
            "Hobby: I love coding in my free time.\n",
            "It allows me to create websites, solve problems, and automate tasks.\n",
            "The best part is learning new technologies and building projects that help people.\n"
          ]
        }
      ],
      "source": [
        "# Defining strings with different types of quotes\n",
        "single_quote = 'This is a single quote text, \"in this we can use a double quote.\"'\n",
        "double_quote = \"This is a double quote text, 'in this we can use a single quote.'\"\n",
        "triple_quote = '''This is a triple quote text,\n",
        "in this we can print multiple lines.'''\n",
        "\n",
        "# Single quotes can contain double quotes without escaping.\n",
        "# Double quotes can contain single quotes without escaping.\n",
        "# Triple quotes allow for multiline strings.\n",
        "\n",
        "# Correcting the Quote variable to handle the single quote in \"I'm\"\n",
        "Quote = \"When she asked him, he told her I'm going to the gym.\"\n",
        "\n",
        "# Defining a multiline string using triple quotes\n",
        "Hobby = \"\"\"I love coding in my free time.\n",
        "It allows me to create websites, solve problems, and automate tasks.\n",
        "The best part is learning new technologies and building projects that help people.\"\"\"\n",
        "\n",
        "# Printing the variables\n",
        "print(\"Single Quote:\", single_quote)\n",
        "print()\n",
        "print(\"Double Quote:\", double_quote)\n",
        "print()\n",
        "print(\"Triple Quote:\", triple_quote)\n",
        "print()\n",
        "print(\"Quote with Single Quote Inside:\", Quote)\n",
        "print()\n",
        "print(\"Hobby:\", Hobby)\n"
      ]
    },
    {
      "cell_type": "markdown",
      "source": [
        "***Part 2: String Methods Practice***"
      ],
      "metadata": {
        "id": "XEoVj-7JBkfm"
      }
    },
    {
      "cell_type": "code",
      "source": [
        "# Part 1\n",
        "first_name= \"Syed Nauman\"\n",
        "last_name=\"Navaid\"\n",
        "full_name=first_name+\" \"+last_name\n",
        "print(\"Part 1\")\n",
        "print(full_name)\n",
        "print( \"Uppercase:\",full_name.upper())\n",
        "print(\"Lowercase:\",full_name.lower())\n",
        "print(\"Titlecase:\",full_name.title())\n",
        "print()\n",
        "\n",
        "# Part 2\n",
        "messy_text= \" Python programming is fun! \"\n",
        "clean_text=messy_text.strip()\n",
        "replaced_text=clean_text.replace(\"fun\", \"amazing\")\n",
        "letter_count=clean_text.count('i')\n",
        "print(\"Part 2\")\n",
        "print(\"Messy Text:\", messy_text)\n",
        "print(\"Clean Text:\", clean_text)\n",
        "print(\"Replaced Text:\", replaced_text)\n",
        "print(\"Letter Count:\", letter_count)\n",
        "print()\n",
        "\n",
        "# Part 3\n",
        "sentence = \"The quick brown fox jumps over the lazy dog\"\n",
        "word_list = sentence.split()\n",
        "list_joined= \" - \".join(word_list)\n",
        "sentence_checking=sentence.startswith(\"The\")\n",
        "fox_position=sentence.find(\"fox\")\n",
        "print(\"Part 3\")\n",
        "print(\"Word List:\", word_list)\n",
        "print(\"Joined List:\", list_joined)\n",
        "print(sentence_checking)\n",
        "print(\"Fox position\", fox_position)\n"
      ],
      "metadata": {
        "id": "gfbVNSzxBrGt",
        "colab": {
          "base_uri": "https://localhost:8080/"
        },
        "outputId": "a2a05846-c3da-4022-a4d9-5d8d66f8daf9"
      },
      "execution_count": null,
      "outputs": [
        {
          "output_type": "stream",
          "name": "stdout",
          "text": [
            "Part 1\n",
            "Syed Nauman Navaid\n",
            "Uppercase: SYED NAUMAN NAVAID\n",
            "Lowercase: syed nauman navaid\n",
            "Titlecase: Syed Nauman Navaid\n",
            "\n",
            "Part 2\n",
            "Messy Text:  Python programming is fun! \n",
            "Clean Text: Python programming is fun!\n",
            "Replaced Text: Python programming is amazing!\n",
            "Letter Count: 2\n",
            "\n",
            "Part 3\n",
            "Word List: ['The', 'quick', 'brown', 'fox', 'jumps', 'over', 'the', 'lazy', 'dog']\n",
            "Joined List: The - quick - brown - fox - jumps - over - the - lazy - dog\n",
            "True\n",
            "Fox position 16\n"
          ]
        }
      ]
    },
    {
      "cell_type": "markdown",
      "source": [
        "***Part 3: F-Strings***"
      ],
      "metadata": {
        "id": "dJnWFrhDSPi8"
      }
    },
    {
      "cell_type": "code",
      "source": [
        "my_name = \"Syed Nauman Navaid\"\n",
        "my_age = 20\n",
        "favorite_language = \"Python\"\n",
        "future_age = my_age + 5\n",
        "\n",
        "name_and_age = f\"My name is {my_name} and I am {my_age} years old.\"\n",
        "favorite_language_message = f\"My favorite language is {favorite_language}.\"\n",
        "future_age_message = f\"In five years, I will be {future_age} years old.\"\n",
        "\n",
        "print(favorite_language_message)\n",
        "print(name_and_age)\n",
        "print(future_age_message)\n",
        "\n"
      ],
      "metadata": {
        "colab": {
          "base_uri": "https://localhost:8080/"
        },
        "id": "gL-DWf3FSUgV",
        "outputId": "6e0625f6-9599-4013-cb89-acbdbb4e05df"
      },
      "execution_count": null,
      "outputs": [
        {
          "output_type": "stream",
          "name": "stdout",
          "text": [
            "My favorite language is Python.\n",
            "My name is Syed Nauman Navaid and I am 20 years old.\n",
            "In five years, I will be 25 years old.\n"
          ]
        }
      ]
    },
    {
      "cell_type": "markdown",
      "source": [
        "***Part 4: Combining String Methods with F-Strings***"
      ],
      "metadata": {
        "id": "k_OgeyjjZlhz"
      }
    },
    {
      "cell_type": "code",
      "source": [
        "# Step 1: Collect user input\n",
        "first_name = input(\"Enter your first name: \").strip()\n",
        "last_name = input(\"Enter your last name: \").strip()\n",
        "age = input(\"Enter your current age: \").strip()\n",
        "birth_year = input(\"Enter your birth year (YYYY): \").strip()\n",
        "\n",
        "# Step 2: Capitalize names properly\n",
        "first_name = first_name.title()\n",
        "last_name = last_name.capitalize()\n",
        "\n",
        "# Step 3: Create a username\n",
        "# Use the first initial of the first name, full last name, and birth year\n",
        "username = f\"{first_name[0].lower()}{last_name.lower()}{birth_year}\"\n",
        "\n",
        "\n",
        "# Step 4: Display the profile message\n",
        "profile_message = f\"Profile: {first_name} {last_name}, Age: {age}, Username: {username}\"\n",
        "print(profile_message)\n"
      ],
      "metadata": {
        "colab": {
          "base_uri": "https://localhost:8080/"
        },
        "id": "WCsriTgJZ-xU",
        "outputId": "2ae6650d-107f-4f66-9cf4-7a967807b61b"
      },
      "execution_count": null,
      "outputs": [
        {
          "output_type": "stream",
          "name": "stdout",
          "text": [
            "Enter your first name: syed nauman\n",
            "Enter your last name: navaid\n",
            "Enter your current age: 20\n",
            "Enter your birth year (YYYY): 2005\n",
            "Profile: Syed Nauman Navaid, Age: 20, Username: snavaid2005\n"
          ]
        }
      ]
    }
  ]
}